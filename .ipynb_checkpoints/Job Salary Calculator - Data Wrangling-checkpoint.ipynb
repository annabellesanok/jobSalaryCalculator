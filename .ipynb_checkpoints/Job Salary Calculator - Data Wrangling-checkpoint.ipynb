{
 "cells": [
  {
   "cell_type": "code",
   "execution_count": 1,
   "id": "23296916",
   "metadata": {},
   "outputs": [],
   "source": [
    "import pandas as pd\n",
    "import ipywidgets as widgets\n",
    "from IPython.display import display"
   ]
  },
  {
   "cell_type": "code",
   "execution_count": 5,
   "id": "90de8d32",
   "metadata": {},
   "outputs": [],
   "source": [
    "# Load job data\n",
    "data = pd.read_csv(\"job_data.csv\")\n",
    "data_cleaned = data.drop(columns=[col for col in data if col.startswith('Unnamed')])\n",
    "data_cleaned['Salary'] = data_cleaned['Salary'].replace('[\\$,]', '', regex=True).astype(float)"
   ]
  },
  {
   "cell_type": "code",
   "execution_count": 6,
   "id": "7f72c0b0",
   "metadata": {},
   "outputs": [],
   "source": [
    "# Load Zillow data\n",
    "zillow_data = pd.read_csv(\"Zillow_Data.csv\")"
   ]
  },
  {
   "cell_type": "code",
   "execution_count": 7,
   "id": "2e51dec3",
   "metadata": {},
   "outputs": [],
   "source": [
    "# Load median salary data\n",
    "median_salary_state = pd.read_csv(\"Median Salary by State.csv\")"
   ]
  },
  {
   "cell_type": "code",
   "execution_count": 8,
   "id": "3f05068a",
   "metadata": {},
   "outputs": [],
   "source": [
    "# Convert the Median Rent from string to float and remove formatting\n",
    "zillow_data['Median Rent'] = zillow_data['Median Rent'].replace({'\\$':'', ',':''}, regex=True).astype(float)"
   ]
  },
  {
   "cell_type": "code",
   "execution_count": 9,
   "id": "efc5795e",
   "metadata": {},
   "outputs": [],
   "source": [
    "# Convert Median Salary to a float and remove any dollar signs and commas\n",
    "median_salary_state['Median Salary'] = median_salary_state['Median Salary'].replace('[\\$,]', '', regex=True).astype(float)"
   ]
  },
  {
   "cell_type": "code",
   "execution_count": 10,
   "id": "16a0dc4e",
   "metadata": {},
   "outputs": [],
   "source": [
    "# Calculate Annual Median Rent\n",
    "zillow_data['Annual Median Rent'] = zillow_data['Median Rent'] * 12"
   ]
  },
  {
   "cell_type": "code",
   "execution_count": 11,
   "id": "78b2e948",
   "metadata": {},
   "outputs": [],
   "source": [
    "# Calculate Salary Needed\n",
    "zillow_data['Salary Needed'] = zillow_data['Annual Median Rent'] * 3.3333"
   ]
  },
  {
   "cell_type": "code",
   "execution_count": 13,
   "id": "eaa3694d",
   "metadata": {},
   "outputs": [],
   "source": [
    "# Create function to calculate the average salary\n",
    "def calculate_average_salary(company, job_tag, state):\n",
    "    filtered_data = data_cleaned[\n",
    "        (data_cleaned['Company'] == company) & \n",
    "        (data_cleaned['Job Tag'] == job_tag) & \n",
    "        (data_cleaned['State'] == state)\n",
    "    ]\n",
    "    average_salary = filtered_data['Salary'].mean()\n",
    "    return average_salary"
   ]
  },
  {
   "cell_type": "code",
   "execution_count": 14,
   "id": "5ab1f2cb",
   "metadata": {},
   "outputs": [],
   "source": [
    "# Create function to compare the average salary to the salary needed\n",
    "def compare_salary_to_cost_of_living(average_salary, state, zillow_data):\n",
    "    # Get the 'Salary Needed' for the state from zillow_data\n",
    "    salary_needed = zillow_data.loc[zillow_data['State'] == state, 'Salary Needed'].values[0]\n",
    "    return average_salary >= salary_needed"
   ]
  },
  {
   "cell_type": "code",
   "execution_count": 15,
   "id": "a050ca19",
   "metadata": {},
   "outputs": [],
   "source": [
    "# Create dropdowns\n",
    "company_widget = widgets.Dropdown(options=data_cleaned['Company'].unique(), description='Company:')\n",
    "job_tag_widget = widgets.Dropdown(options=data_cleaned['Job Tag'].unique(), description='Job Tag:')\n",
    "state_widget = widgets.Dropdown(options=data_cleaned['State'].unique(), description='State:')"
   ]
  },
  {
   "cell_type": "code",
   "execution_count": 16,
   "id": "53356278",
   "metadata": {},
   "outputs": [],
   "source": [
    "# Button to calculate the average salary\n",
    "calculate_button = widgets.Button(description=\"Calculate Average Salary\")"
   ]
  },
  {
   "cell_type": "code",
   "execution_count": 17,
   "id": "5dfca896",
   "metadata": {},
   "outputs": [],
   "source": [
    "# Output widget to display the result\n",
    "output = widgets.Output()"
   ]
  },
  {
   "cell_type": "code",
   "execution_count": 18,
   "id": "ef9374d0",
   "metadata": {},
   "outputs": [],
   "source": [
    "# Function for button click\n",
    "def on_calculate_clicked(b):\n",
    "    with output:\n",
    "        output.clear_output()\n",
    "        average_salary = calculate_average_salary(company_widget.value, job_tag_widget.value, state_widget.value)\n",
    "        if pd.isna(average_salary):\n",
    "            print(\"No data available for the selected criteria.\")\n",
    "        else:\n",
    "            # Median salary for the selected state\n",
    "            median_salary_row = median_salary_state[median_salary_state['State'] == state_widget.value]\n",
    "            if not median_salary_row.empty:\n",
    "                median_salary = median_salary_row['Median Salary'].values[0]\n",
    "                salary_difference = average_salary - median_salary\n",
    "\n",
    "                comparison_result = compare_salary_to_cost_of_living(average_salary, state_widget.value, zillow_data)\n",
    "                print(f\"The average salary for your selections is: ${average_salary:.2f}\")\n",
    "                print(f\"Is the average salary greater than the salary needed in {state_widget.value}? {'Yes' if comparison_result else 'No'}\")\n",
    "                print(f\"The average salary is ${salary_difference:.2f} more than the median salary in {state_widget.value}.\")\n",
    "            else:\n",
    "                print(\"Median salary data for the selected state is not available.\")"
   ]
  },
  {
   "cell_type": "code",
   "execution_count": 19,
   "id": "d462588c",
   "metadata": {},
   "outputs": [],
   "source": [
    "# Link the button click event to the function\n",
    "calculate_button.on_click(on_calculate_clicked)"
   ]
  },
  {
   "cell_type": "code",
   "execution_count": 12,
   "id": "44ce636e",
   "metadata": {},
   "outputs": [
    {
     "ename": "NameError",
     "evalue": "name 'company_widget' is not defined",
     "output_type": "error",
     "traceback": [
      "\u001b[0;31m---------------------------------------------------------------------------\u001b[0m",
      "\u001b[0;31mNameError\u001b[0m                                 Traceback (most recent call last)",
      "\u001b[0;32m/var/folders/6z/35pf992s2hx4_b988tg5j0z40000gn/T/ipykernel_77004/1521762297.py\u001b[0m in \u001b[0;36m<module>\u001b[0;34m\u001b[0m\n\u001b[1;32m      1\u001b[0m \u001b[0;31m# Display the widgets\u001b[0m\u001b[0;34m\u001b[0m\u001b[0;34m\u001b[0m\u001b[0m\n\u001b[0;32m----> 2\u001b[0;31m \u001b[0mdisplay\u001b[0m\u001b[0;34m(\u001b[0m\u001b[0mwidgets\u001b[0m\u001b[0;34m.\u001b[0m\u001b[0mVBox\u001b[0m\u001b[0;34m(\u001b[0m\u001b[0;34m[\u001b[0m\u001b[0mcompany_widget\u001b[0m\u001b[0;34m,\u001b[0m \u001b[0mjob_tag_widget\u001b[0m\u001b[0;34m,\u001b[0m \u001b[0mstate_widget\u001b[0m\u001b[0;34m,\u001b[0m \u001b[0mcalculate_button\u001b[0m\u001b[0;34m,\u001b[0m \u001b[0moutput\u001b[0m\u001b[0;34m]\u001b[0m\u001b[0;34m)\u001b[0m\u001b[0;34m)\u001b[0m\u001b[0;34m\u001b[0m\u001b[0;34m\u001b[0m\u001b[0m\n\u001b[0m",
      "\u001b[0;31mNameError\u001b[0m: name 'company_widget' is not defined"
     ]
    }
   ],
   "source": [
    "# Display the widgets\n",
    "display(widgets.VBox([company_widget, job_tag_widget, state_widget, calculate_button, output]))"
   ]
  },
  {
   "cell_type": "code",
   "execution_count": 105,
   "id": "e34ba7c9",
   "metadata": {},
   "outputs": [],
   "source": [
    "# Extract uodated Zillow data as CSV\n",
    "#output_file_path = \"updated_zillow_data.csv\"\n",
    "#zillow_data.to_csv(output_file_path, index=False)"
   ]
  },
  {
   "cell_type": "code",
   "execution_count": null,
   "id": "3a30b19a",
   "metadata": {},
   "outputs": [],
   "source": []
  }
 ],
 "metadata": {
  "kernelspec": {
   "display_name": "Python 3 (ipykernel)",
   "language": "python",
   "name": "python3"
  },
  "language_info": {
   "codemirror_mode": {
    "name": "ipython",
    "version": 3
   },
   "file_extension": ".py",
   "mimetype": "text/x-python",
   "name": "python",
   "nbconvert_exporter": "python",
   "pygments_lexer": "ipython3",
   "version": "3.9.13"
  }
 },
 "nbformat": 4,
 "nbformat_minor": 5
}
