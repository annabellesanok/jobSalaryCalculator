{
 "cells": [
  {
   "cell_type": "code",
   "execution_count": 1,
   "id": "23296916",
   "metadata": {},
   "outputs": [],
   "source": [
    "import pandas as pd\n",
    "import ipywidgets as widgets\n",
    "from IPython.display import display"
   ]
  },
  {
   "cell_type": "code",
   "execution_count": 2,
   "id": "90de8d32",
   "metadata": {},
   "outputs": [],
   "source": [
    "# Load job data\n",
    "data = pd.read_csv(\"job_data.csv\")\n",
    "data_cleaned = data.drop(columns=[col for col in data if col.startswith('Unnamed')])\n",
    "data_cleaned['Salary'] = data_cleaned['Salary'].replace('[\\$,]', '', regex=True).astype(float)"
   ]
  },
  {
   "cell_type": "code",
   "execution_count": 3,
   "id": "7f72c0b0",
   "metadata": {},
   "outputs": [],
   "source": [
    "# Load Zillow data\n",
    "zillow_data = pd.read_csv(\"Zillow_Data.csv\")"
   ]
  },
  {
   "cell_type": "code",
   "execution_count": 4,
   "id": "2e51dec3",
   "metadata": {},
   "outputs": [
    {
     "ename": "FileNotFoundError",
     "evalue": "[Errno 2] No such file or directory: 'Median Salary by State.csv'",
     "output_type": "error",
     "traceback": [
      "\u001b[0;31m---------------------------------------------------------------------------\u001b[0m",
      "\u001b[0;31mFileNotFoundError\u001b[0m                         Traceback (most recent call last)",
      "\u001b[0;32m/var/folders/6z/35pf992s2hx4_b988tg5j0z40000gn/T/ipykernel_80921/3435673108.py\u001b[0m in \u001b[0;36m<module>\u001b[0;34m\u001b[0m\n\u001b[1;32m      1\u001b[0m \u001b[0;31m# Load median salary data\u001b[0m\u001b[0;34m\u001b[0m\u001b[0;34m\u001b[0m\u001b[0m\n\u001b[0;32m----> 2\u001b[0;31m \u001b[0mmedian_salary_state\u001b[0m \u001b[0;34m=\u001b[0m \u001b[0mpd\u001b[0m\u001b[0;34m.\u001b[0m\u001b[0mread_csv\u001b[0m\u001b[0;34m(\u001b[0m\u001b[0;34m\"Median Salary by State.csv\"\u001b[0m\u001b[0;34m)\u001b[0m\u001b[0;34m\u001b[0m\u001b[0;34m\u001b[0m\u001b[0m\n\u001b[0m",
      "\u001b[0;32m~/opt/anaconda3/lib/python3.9/site-packages/pandas/util/_decorators.py\u001b[0m in \u001b[0;36mwrapper\u001b[0;34m(*args, **kwargs)\u001b[0m\n\u001b[1;32m    309\u001b[0m                     \u001b[0mstacklevel\u001b[0m\u001b[0;34m=\u001b[0m\u001b[0mstacklevel\u001b[0m\u001b[0;34m,\u001b[0m\u001b[0;34m\u001b[0m\u001b[0;34m\u001b[0m\u001b[0m\n\u001b[1;32m    310\u001b[0m                 )\n\u001b[0;32m--> 311\u001b[0;31m             \u001b[0;32mreturn\u001b[0m \u001b[0mfunc\u001b[0m\u001b[0;34m(\u001b[0m\u001b[0;34m*\u001b[0m\u001b[0margs\u001b[0m\u001b[0;34m,\u001b[0m \u001b[0;34m**\u001b[0m\u001b[0mkwargs\u001b[0m\u001b[0;34m)\u001b[0m\u001b[0;34m\u001b[0m\u001b[0;34m\u001b[0m\u001b[0m\n\u001b[0m\u001b[1;32m    312\u001b[0m \u001b[0;34m\u001b[0m\u001b[0m\n\u001b[1;32m    313\u001b[0m         \u001b[0;32mreturn\u001b[0m \u001b[0mwrapper\u001b[0m\u001b[0;34m\u001b[0m\u001b[0;34m\u001b[0m\u001b[0m\n",
      "\u001b[0;32m~/opt/anaconda3/lib/python3.9/site-packages/pandas/io/parsers/readers.py\u001b[0m in \u001b[0;36mread_csv\u001b[0;34m(filepath_or_buffer, sep, delimiter, header, names, index_col, usecols, squeeze, prefix, mangle_dupe_cols, dtype, engine, converters, true_values, false_values, skipinitialspace, skiprows, skipfooter, nrows, na_values, keep_default_na, na_filter, verbose, skip_blank_lines, parse_dates, infer_datetime_format, keep_date_col, date_parser, dayfirst, cache_dates, iterator, chunksize, compression, thousands, decimal, lineterminator, quotechar, quoting, doublequote, escapechar, comment, encoding, encoding_errors, dialect, error_bad_lines, warn_bad_lines, on_bad_lines, delim_whitespace, low_memory, memory_map, float_precision, storage_options)\u001b[0m\n\u001b[1;32m    676\u001b[0m     \u001b[0mkwds\u001b[0m\u001b[0;34m.\u001b[0m\u001b[0mupdate\u001b[0m\u001b[0;34m(\u001b[0m\u001b[0mkwds_defaults\u001b[0m\u001b[0;34m)\u001b[0m\u001b[0;34m\u001b[0m\u001b[0;34m\u001b[0m\u001b[0m\n\u001b[1;32m    677\u001b[0m \u001b[0;34m\u001b[0m\u001b[0m\n\u001b[0;32m--> 678\u001b[0;31m     \u001b[0;32mreturn\u001b[0m \u001b[0m_read\u001b[0m\u001b[0;34m(\u001b[0m\u001b[0mfilepath_or_buffer\u001b[0m\u001b[0;34m,\u001b[0m \u001b[0mkwds\u001b[0m\u001b[0;34m)\u001b[0m\u001b[0;34m\u001b[0m\u001b[0;34m\u001b[0m\u001b[0m\n\u001b[0m\u001b[1;32m    679\u001b[0m \u001b[0;34m\u001b[0m\u001b[0m\n\u001b[1;32m    680\u001b[0m \u001b[0;34m\u001b[0m\u001b[0m\n",
      "\u001b[0;32m~/opt/anaconda3/lib/python3.9/site-packages/pandas/io/parsers/readers.py\u001b[0m in \u001b[0;36m_read\u001b[0;34m(filepath_or_buffer, kwds)\u001b[0m\n\u001b[1;32m    573\u001b[0m \u001b[0;34m\u001b[0m\u001b[0m\n\u001b[1;32m    574\u001b[0m     \u001b[0;31m# Create the parser.\u001b[0m\u001b[0;34m\u001b[0m\u001b[0;34m\u001b[0m\u001b[0m\n\u001b[0;32m--> 575\u001b[0;31m     \u001b[0mparser\u001b[0m \u001b[0;34m=\u001b[0m \u001b[0mTextFileReader\u001b[0m\u001b[0;34m(\u001b[0m\u001b[0mfilepath_or_buffer\u001b[0m\u001b[0;34m,\u001b[0m \u001b[0;34m**\u001b[0m\u001b[0mkwds\u001b[0m\u001b[0;34m)\u001b[0m\u001b[0;34m\u001b[0m\u001b[0;34m\u001b[0m\u001b[0m\n\u001b[0m\u001b[1;32m    576\u001b[0m \u001b[0;34m\u001b[0m\u001b[0m\n\u001b[1;32m    577\u001b[0m     \u001b[0;32mif\u001b[0m \u001b[0mchunksize\u001b[0m \u001b[0;32mor\u001b[0m \u001b[0miterator\u001b[0m\u001b[0;34m:\u001b[0m\u001b[0;34m\u001b[0m\u001b[0;34m\u001b[0m\u001b[0m\n",
      "\u001b[0;32m~/opt/anaconda3/lib/python3.9/site-packages/pandas/io/parsers/readers.py\u001b[0m in \u001b[0;36m__init__\u001b[0;34m(self, f, engine, **kwds)\u001b[0m\n\u001b[1;32m    930\u001b[0m \u001b[0;34m\u001b[0m\u001b[0m\n\u001b[1;32m    931\u001b[0m         \u001b[0mself\u001b[0m\u001b[0;34m.\u001b[0m\u001b[0mhandles\u001b[0m\u001b[0;34m:\u001b[0m \u001b[0mIOHandles\u001b[0m \u001b[0;34m|\u001b[0m \u001b[0;32mNone\u001b[0m \u001b[0;34m=\u001b[0m \u001b[0;32mNone\u001b[0m\u001b[0;34m\u001b[0m\u001b[0;34m\u001b[0m\u001b[0m\n\u001b[0;32m--> 932\u001b[0;31m         \u001b[0mself\u001b[0m\u001b[0;34m.\u001b[0m\u001b[0m_engine\u001b[0m \u001b[0;34m=\u001b[0m \u001b[0mself\u001b[0m\u001b[0;34m.\u001b[0m\u001b[0m_make_engine\u001b[0m\u001b[0;34m(\u001b[0m\u001b[0mf\u001b[0m\u001b[0;34m,\u001b[0m \u001b[0mself\u001b[0m\u001b[0;34m.\u001b[0m\u001b[0mengine\u001b[0m\u001b[0;34m)\u001b[0m\u001b[0;34m\u001b[0m\u001b[0;34m\u001b[0m\u001b[0m\n\u001b[0m\u001b[1;32m    933\u001b[0m \u001b[0;34m\u001b[0m\u001b[0m\n\u001b[1;32m    934\u001b[0m     \u001b[0;32mdef\u001b[0m \u001b[0mclose\u001b[0m\u001b[0;34m(\u001b[0m\u001b[0mself\u001b[0m\u001b[0;34m)\u001b[0m\u001b[0;34m:\u001b[0m\u001b[0;34m\u001b[0m\u001b[0;34m\u001b[0m\u001b[0m\n",
      "\u001b[0;32m~/opt/anaconda3/lib/python3.9/site-packages/pandas/io/parsers/readers.py\u001b[0m in \u001b[0;36m_make_engine\u001b[0;34m(self, f, engine)\u001b[0m\n\u001b[1;32m   1214\u001b[0m             \u001b[0;31m# \"Union[str, PathLike[str], ReadCsvBuffer[bytes], ReadCsvBuffer[str]]\"\u001b[0m\u001b[0;34m\u001b[0m\u001b[0;34m\u001b[0m\u001b[0m\n\u001b[1;32m   1215\u001b[0m             \u001b[0;31m# , \"str\", \"bool\", \"Any\", \"Any\", \"Any\", \"Any\", \"Any\"\u001b[0m\u001b[0;34m\u001b[0m\u001b[0;34m\u001b[0m\u001b[0m\n\u001b[0;32m-> 1216\u001b[0;31m             self.handles = get_handle(  # type: ignore[call-overload]\n\u001b[0m\u001b[1;32m   1217\u001b[0m                 \u001b[0mf\u001b[0m\u001b[0;34m,\u001b[0m\u001b[0;34m\u001b[0m\u001b[0;34m\u001b[0m\u001b[0m\n\u001b[1;32m   1218\u001b[0m                 \u001b[0mmode\u001b[0m\u001b[0;34m,\u001b[0m\u001b[0;34m\u001b[0m\u001b[0;34m\u001b[0m\u001b[0m\n",
      "\u001b[0;32m~/opt/anaconda3/lib/python3.9/site-packages/pandas/io/common.py\u001b[0m in \u001b[0;36mget_handle\u001b[0;34m(path_or_buf, mode, encoding, compression, memory_map, is_text, errors, storage_options)\u001b[0m\n\u001b[1;32m    784\u001b[0m         \u001b[0;32mif\u001b[0m \u001b[0mioargs\u001b[0m\u001b[0;34m.\u001b[0m\u001b[0mencoding\u001b[0m \u001b[0;32mand\u001b[0m \u001b[0;34m\"b\"\u001b[0m \u001b[0;32mnot\u001b[0m \u001b[0;32min\u001b[0m \u001b[0mioargs\u001b[0m\u001b[0;34m.\u001b[0m\u001b[0mmode\u001b[0m\u001b[0;34m:\u001b[0m\u001b[0;34m\u001b[0m\u001b[0;34m\u001b[0m\u001b[0m\n\u001b[1;32m    785\u001b[0m             \u001b[0;31m# Encoding\u001b[0m\u001b[0;34m\u001b[0m\u001b[0;34m\u001b[0m\u001b[0m\n\u001b[0;32m--> 786\u001b[0;31m             handle = open(\n\u001b[0m\u001b[1;32m    787\u001b[0m                 \u001b[0mhandle\u001b[0m\u001b[0;34m,\u001b[0m\u001b[0;34m\u001b[0m\u001b[0;34m\u001b[0m\u001b[0m\n\u001b[1;32m    788\u001b[0m                 \u001b[0mioargs\u001b[0m\u001b[0;34m.\u001b[0m\u001b[0mmode\u001b[0m\u001b[0;34m,\u001b[0m\u001b[0;34m\u001b[0m\u001b[0;34m\u001b[0m\u001b[0m\n",
      "\u001b[0;31mFileNotFoundError\u001b[0m: [Errno 2] No such file or directory: 'Median Salary by State.csv'"
     ]
    }
   ],
   "source": [
    "# Load median salary data\n",
    "median_salary_state = pd.read_csv(\"Median Salary by State.csv\")"
   ]
  },
  {
   "cell_type": "code",
   "execution_count": null,
   "id": "3f05068a",
   "metadata": {},
   "outputs": [],
   "source": [
    "# Convert the Median Rent from string to float and remove formatting\n",
    "zillow_data['Median Rent'] = zillow_data['Median Rent'].replace({'\\$':'', ',':''}, regex=True).astype(float)"
   ]
  },
  {
   "cell_type": "code",
   "execution_count": null,
   "id": "efc5795e",
   "metadata": {},
   "outputs": [],
   "source": [
    "# Convert Median Salary to a float and remove any dollar signs and commas\n",
    "median_salary_state['Median Salary'] = median_salary_state['Median Salary'].replace('[\\$,]', '', regex=True).astype(float)"
   ]
  },
  {
   "cell_type": "code",
   "execution_count": 5,
   "id": "16a0dc4e",
   "metadata": {},
   "outputs": [],
   "source": [
    "# Calculate Annual Median Rent\n",
    "zillow_data['Annual Median Rent'] = zillow_data['Median Rent'] * 12"
   ]
  },
  {
   "cell_type": "code",
   "execution_count": 6,
   "id": "78b2e948",
   "metadata": {},
   "outputs": [],
   "source": [
    "# Calculate Salary Needed\n",
    "zillow_data['Salary Needed'] = zillow_data['Annual Median Rent'] * 3.3333"
   ]
  },
  {
   "cell_type": "code",
   "execution_count": 25,
   "id": "eaa3694d",
   "metadata": {},
   "outputs": [],
   "source": [
    "# Create function to calculate the average salary\n",
    "def calculate_average_salary(company, job_tag, state):\n",
    "    filtered_data = data_cleaned[\n",
    "        (data_cleaned['Company'] == company) & \n",
    "        (data_cleaned['Job Tag'] == job_tag) & \n",
    "        (data_cleaned['State'] == state)\n",
    "    ]\n",
    "    average_salary = filtered_data['Salary'].mean()\n",
    "    return average_salary"
   ]
  },
  {
   "cell_type": "code",
   "execution_count": 26,
   "id": "5ab1f2cb",
   "metadata": {},
   "outputs": [],
   "source": [
    "# Create function to compare the average salary to the salary needed\n",
    "def compare_salary_to_cost_of_living(average_salary, state, zillow_data):\n",
    "    # Get the 'Salary Needed' for the state from zillow_data\n",
    "    salary_needed = zillow_data.loc[zillow_data['State'] == state, 'Salary Needed'].values[0]\n",
    "    return average_salary >= salary_needed"
   ]
  },
  {
   "cell_type": "code",
   "execution_count": 27,
   "id": "a050ca19",
   "metadata": {},
   "outputs": [],
   "source": [
    "# Create dropdowns\n",
    "company_widget = widgets.Dropdown(options=data_cleaned['Company'].unique(), description='Company:')\n",
    "job_tag_widget = widgets.Dropdown(options=data_cleaned['Job Tag'].unique(), description='Job Tag:')\n",
    "state_widget = widgets.Dropdown(options=data_cleaned['State'].unique(), description='State:')"
   ]
  },
  {
   "cell_type": "code",
   "execution_count": 28,
   "id": "53356278",
   "metadata": {},
   "outputs": [],
   "source": [
    "# Button to calculate the average salary\n",
    "calculate_button = widgets.Button(description=\"Calculate Average Salary\")"
   ]
  },
  {
   "cell_type": "code",
   "execution_count": 29,
   "id": "5dfca896",
   "metadata": {},
   "outputs": [],
   "source": [
    "# Output widget to display the result\n",
    "output = widgets.Output()"
   ]
  },
  {
   "cell_type": "code",
   "execution_count": 30,
   "id": "ef9374d0",
   "metadata": {},
   "outputs": [],
   "source": [
    "# Function for button click\n",
    "def on_calculate_clicked(b):\n",
    "    with output:\n",
    "        output.clear_output()\n",
    "        average_salary = calculate_average_salary(company_widget.value, job_tag_widget.value, state_widget.value)\n",
    "        if pd.isna(average_salary):\n",
    "            print(\"No data available for the selected criteria.\")\n",
    "        else:\n",
    "            # Median salary for the selected state\n",
    "            median_salary_row = median_salary_state[median_salary_state['State'] == state_widget.value]\n",
    "            if not median_salary_row.empty:\n",
    "                median_salary = median_salary_row['Median Salary'].values[0]\n",
    "                salary_difference = average_salary - median_salary\n",
    "\n",
    "                comparison_result = compare_salary_to_cost_of_living(average_salary, state_widget.value, zillow_data)\n",
    "                print(f\"The average salary for your selections is: ${average_salary:.2f}\")\n",
    "                print(f\"Is the average salary greater than the salary needed in {state_widget.value}? {'Yes' if comparison_result else 'No'}\")\n",
    "                print(f\"The average salary is ${salary_difference:.2f} more than the median salary in {state_widget.value}.\")\n",
    "            else:\n",
    "                print(\"Median salary data for the selected state is not available.\")"
   ]
  },
  {
   "cell_type": "code",
   "execution_count": 31,
   "id": "d462588c",
   "metadata": {},
   "outputs": [],
   "source": [
    "# Link the button click event to the function\n",
    "calculate_button.on_click(on_calculate_clicked)"
   ]
  },
  {
   "cell_type": "code",
   "execution_count": 32,
   "id": "44ce636e",
   "metadata": {},
   "outputs": [
    {
     "data": {
      "application/vnd.jupyter.widget-view+json": {
       "model_id": "ae7f4ed5459d4c969d768f30e532579b",
       "version_major": 2,
       "version_minor": 0
      },
      "text/plain": [
       "VBox(children=(Dropdown(description='Company:', options=('Alphabet', 'Amazon', 'Apple', 'Meta', 'Microsoft', '…"
      ]
     },
     "metadata": {},
     "output_type": "display_data"
    }
   ],
   "source": [
    "# Display the widgets\n",
    "display(widgets.VBox([company_widget, job_tag_widget, state_widget, calculate_button, output]))"
   ]
  },
  {
   "cell_type": "code",
   "execution_count": 105,
   "id": "e34ba7c9",
   "metadata": {},
   "outputs": [],
   "source": [
    "# Extract uodated Zillow data as CSV\n",
    "#output_file_path = \"updated_zillow_data.csv\"\n",
    "#zillow_data.to_csv(output_file_path, index=False)"
   ]
  },
  {
   "cell_type": "code",
   "execution_count": null,
   "id": "3a30b19a",
   "metadata": {},
   "outputs": [],
   "source": []
  }
 ],
 "metadata": {
  "kernelspec": {
   "display_name": "Python 3 (ipykernel)",
   "language": "python",
   "name": "python3"
  },
  "language_info": {
   "codemirror_mode": {
    "name": "ipython",
    "version": 3
   },
   "file_extension": ".py",
   "mimetype": "text/x-python",
   "name": "python",
   "nbconvert_exporter": "python",
   "pygments_lexer": "ipython3",
   "version": "3.9.13"
  }
 },
 "nbformat": 4,
 "nbformat_minor": 5
}
